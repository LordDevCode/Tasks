{
 "cells": [
  {
   "cell_type": "code",
   "execution_count": null,
   "id": "d0fe34c9-faf3-4bb3-9fef-e30bbc54cc16",
   "metadata": {},
   "outputs": [],
   "source": []
  },
  {
   "cell_type": "code",
   "execution_count": 4,
   "id": "0d16dbdc-1c66-400e-a7a7-ab9e62255f95",
   "metadata": {},
   "outputs": [
    {
     "name": "stdout",
     "output_type": "stream",
     "text": [
      "The product of all the numbers after creating a flat list is 4134711838987085478833841242112000.\n"
     ]
    }
   ],
   "source": [
    "# Q1. Create a function which will take a list as an argument and return the product of all the numbers\n",
    "# after creating a flat list.\n",
    "# Use the below-given list as an argument for your function.\n",
    "# list1 = [1,2,3,4, [44,55,66, True], False, (34,56,78,89,34), {1,2,3,3,2,1}, {1:34, \"key2\": [55, 67, 78, 89], 4: (45,22, 61, 34)}, [56, 'data science'], 'Machine Learning']\n",
    "# Note: you must extract numeric keys and values of the dictionary also.\n",
    "\n",
    "from functools import reduce\n",
    "\n",
    "def product_of_numbers(lis):\n",
    "    \n",
    "    flat_list = []\n",
    "    \n",
    "    for i in lis:\n",
    "        if type(i) == int:\n",
    "            flat_list.append(i)\n",
    "        elif type(i) == list or type(i) == tuple or type(i) == set:\n",
    "            for j in i:\n",
    "                if type(j) == int:\n",
    "                    flat_list.append(j)\n",
    "        elif type(i) == dict:\n",
    "            for key,value in i.items():\n",
    "                if type(key) == int:\n",
    "                    flat_list.append(key)\n",
    "                if type(value) == int:\n",
    "                    flat_list.append(value)\n",
    "                if type(value) == list or type(value) == tuple or type(value) == set:\n",
    "                    for a in value:\n",
    "                        if type(a) == int:\n",
    "                            flat_list.append(a)\n",
    "    \n",
    "    \n",
    "    return reduce(lambda x,y : x*y,flat_list)\n",
    "\n",
    "\n",
    "list1 = [1,2,3,4, [44,55,66, True], False, (34,56,78,89,34), {1,2,3,3,2,1}, {1:34, \"key2\": [55, 67, 78, 89], 4: (45,22, 61, 34)}, [56, 'data science'], 'Machine Learning']\n",
    "\n",
    "\n",
    "print(f\"The product of all the numbers after creating a flat list is {product_of_numbers(list1)}\"+\".\")\n",
    "\n"
   ]
  },
  {
   "cell_type": "code",
   "execution_count": null,
   "id": "a485e5ee-99ac-4a08-b7b5-f8224a0762d7",
   "metadata": {},
   "outputs": [],
   "source": []
  },
  {
   "cell_type": "code",
   "execution_count": 3,
   "id": "9e666f93-00d6-4d25-8181-dd44b2ab6e90",
   "metadata": {},
   "outputs": [
    {
     "name": "stdin",
     "output_type": "stream",
     "text": [
      "Enter Message :-  I want to become a Data Scientist.\n"
     ]
    },
    {
     "name": "stdout",
     "output_type": "stream",
     "text": [
      "Encrypted Message:-  r$dzmg$gl$yvxlnv$z$wzgz$hxrvmgrhg. \n"
     ]
    }
   ],
   "source": [
    "# Q2. Write a python program for encrypting a message sent to you by your friend. The logic of encryption should be such that, for a the output should be z. For b, the output should be y. For c, \n",
    "# the output should be x respectively. Also, the whitespace should be replaced with a dollar sign. Keep the punctuation marks unchanged.\n",
    "# Input Sentence: I want to become a Data Scientist.\n",
    "# Encrypt the above input sentence using the program you just created.\n",
    "# Note: Convert the given input sentence into lowercase before encrypting. The final output should be lowercase.\n",
    "\n",
    "def encryption(message):\n",
    "    \n",
    "    message = message.lower()\n",
    "    encript_str = \"\"\n",
    "    logical_dictionary  = { 'a': 'z', 'b': 'y', 'c': 'x', 'd': 'w', 'e': 'v','f': 'u','g': 't','h': 's','i': 'r','j': 'q','k': 'p','l': 'o','m': 'n','n': 'm','o': 'l','p': 'k','q': 'j','r': 'i','s': 'h','t': 'g','u': 'f','v': 'e','w': 'd','x': 'c','y': 'b','z': 'a',' ' : '$'}\n",
    "    for i in message:\n",
    "        \n",
    "        #First way :- sir, you can comment out this below if else statement and use second way to execute and display the same output.\n",
    "        if i in logical_dictionary.keys():\n",
    "            encript_str+=logical_dictionary[i]\n",
    "        else:\n",
    "            encript_str+=i\n",
    "        \n",
    "        #second way :- use this below line of code this is a short hand if else satatement.\n",
    "         # encript_str += 'z' if i == 'a' else 'y' if i == 'b' else 'x' if i == 'c' else 'w' if i == 'd' else 'v' if i == 'e' else 'u' if i == 'f' else 't' if i == 'g' else 's' if i == 'h' else 'r' if i == 'i' else 'q' if i == 'j' else 'p' if i == 'k' else 'o' if i == 'l' else 'n' if i == 'm' else 'm' if i == 'n' else 'l' if i == 'o' else 'k' if i == 'p' else 'j' if i == 'q' else 'i' if i == 'r' else 'h' if i == 's' else 'g' if i == 't' else 'f' if i == 'u' else 'e' if i == 'v' else 'd' if i == 'w' else 'c' if i == 'x' else 'b' if i == 'y' else 'a' if i == 'z' else '$' if i == \" \" else  i \n",
    "        \n",
    "    return encript_str\n",
    "        \n",
    "msg = input(\"Enter Message :- \")\n",
    "Encrypted_Message = encryption(msg)\n",
    "        \n",
    "print(f\"Encrypted Message:-  {Encrypted_Message} \")\n",
    "\n",
    "# Note :- we can solve this Question using many ways, I have shown by solving it in two ways fist using dictionary and second is using short hand if else statement."
   ]
  },
  {
   "cell_type": "code",
   "execution_count": null,
   "id": "11dd99f8-1910-46a4-8984-2b23efaccad9",
   "metadata": {},
   "outputs": [],
   "source": []
  },
  {
   "cell_type": "code",
   "execution_count": 4,
   "id": "d745473b-f630-4dca-9834-855ca2fd6d7e",
   "metadata": {},
   "outputs": [
    {
     "name": "stdin",
     "output_type": "stream",
     "text": [
      "Enter message :-  r$dzmg$gl$yvxlnv$z$wzgz$hxrvmgrhg.\n"
     ]
    },
    {
     "name": "stdout",
     "output_type": "stream",
     "text": [
      "Descrypted Message:-  I Want To Become A Data Scientist.\n"
     ]
    }
   ],
   "source": [
    "#Note :- This is not a part of question this is for my practice.\n",
    "\n",
    "def descryption(message):\n",
    "    \n",
    "    message = message.lower()\n",
    "    \n",
    "    descrypt_str = \"\"\n",
    "    logical_dictionary = {'z': 'a','y': 'b','x': 'c','w': 'd','v': 'e','u': 'f','t': 'g','s': 'h','r': 'i','q': 'j','p': 'k','o': 'l','n': 'm','m': 'n','l': 'o','k': 'p','j': 'q','i': 'r','h': 's','g': 't','f': 'u','e': 'v','d': 'w','c': 'x','b': 'y','a': 'z','$' : ' '}\n",
    "    \n",
    "    \n",
    "    for i in message:\n",
    "        \n",
    "        if i in logical_dictionary.keys():\n",
    "            \n",
    "            descrypt_str += logical_dictionary[i]\n",
    "        else:\n",
    "            \n",
    "            descrypt_str += i\n",
    "    return descrypt_str\n",
    "\n",
    "msg = input(\"Enter message :- \")\n",
    "Descrypted_Message = descryption(msg)\n",
    "\n",
    "print(f\"Descrypted Message:-  {Descrypted_Message.title()}\")\n",
    "            "
   ]
  },
  {
   "cell_type": "code",
   "execution_count": null,
   "id": "28581252-9c42-4234-8676-ddde31d3a7e0",
   "metadata": {},
   "outputs": [],
   "source": []
  },
  {
   "cell_type": "code",
   "execution_count": null,
   "id": "30372909-f65e-42c5-a2ae-48c1238ca4f0",
   "metadata": {},
   "outputs": [],
   "source": []
  }
 ],
 "metadata": {
  "kernelspec": {
   "display_name": "Python 3 (ipykernel)",
   "language": "python",
   "name": "python3"
  },
  "language_info": {
   "codemirror_mode": {
    "name": "ipython",
    "version": 3
   },
   "file_extension": ".py",
   "mimetype": "text/x-python",
   "name": "python",
   "nbconvert_exporter": "python",
   "pygments_lexer": "ipython3",
   "version": "3.10.8"
  }
 },
 "nbformat": 4,
 "nbformat_minor": 5
}
